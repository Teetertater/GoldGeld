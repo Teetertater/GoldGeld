{
 "cells": [
  {
   "cell_type": "code",
   "execution_count": 1,
   "metadata": {},
   "outputs": [
    {
     "name": "stderr",
     "output_type": "stream",
     "text": [
      "Using TensorFlow backend.\n"
     ]
    }
   ],
   "source": [
    "import pandas as pd\n",
    "import tensorflow as tf\n",
    "\n",
    "import re\n",
    "\n",
    "from matplotlib import pyplot as plt\n",
    "import matplotlib.dates as mdates\n",
    "\n",
    "import math\n",
    "from numpy import concatenate\n",
    "from pandas import read_csv\n",
    "from pandas import DataFrame\n",
    "from pandas import concat\n",
    "import numpy as np\n",
    "\n",
    "\n",
    "import datetime\n",
    "\n",
    "from sklearn.model_selection import train_test_split\n",
    "from keras.layers.core import Dense, Activation, Dropout\n",
    "from keras.models import Sequential\n",
    "from keras.layers import LSTM\n",
    "from keras.callbacks import ModelCheckpoint, EarlyStopping\n",
    "from keras import regularizers\n",
    "\n",
    "from os import listdir\n",
    "import h5py\n",
    "\n",
    "pd.set_option('expand_frame_repr', True)\n",
    "np.set_printoptions(threshold='nan')\n"
   ]
  },
  {
   "cell_type": "code",
   "execution_count": 2,
   "metadata": {
    "collapsed": true
   },
   "outputs": [],
   "source": [
    "def quickplot(df):\n",
    "    values = df.values\n",
    "    groups = [i for i in range(0, df.shape[1])]\n",
    "    i = 1\n",
    "    for group in groups:\n",
    "        plt.subplot(len(groups), 1, i)\n",
    "        plt.plot(values[:, group])\n",
    "        plt.title(df.columns[group], y=0.1, loc='right')\n",
    "        i += 1\n",
    "    plt.show()"
   ]
  },
  {
   "cell_type": "code",
   "execution_count": 3,
   "metadata": {
    "collapsed": true
   },
   "outputs": [],
   "source": [
    "df2012 = pd.read_csv('/home/yuryivz/2012_hourly.tsv', sep=\"\\t\")\n",
    "df2013 = pd.read_csv('/home/yuryivz/2013_hourly.tsv', sep=\"\\t\")\n",
    "df2014 = pd.read_csv('/home/yuryivz/2014_hourly.tsv', sep=\"\\t\")\n",
    "df2015 = pd.read_csv('/home/yuryivz/2015_hourly.tsv', sep=\"\\t\")\n",
    "df2016 = pd.read_csv('/home/yuryivz/2016_hourly.tsv', sep=\"\\t\")\n",
    "df2017 = pd.read_csv('/home/yuryivz/2017_hourly.tsv', sep=\"\\t\")\n",
    "df2018 = pd.read_csv('/home/yuryivz/2018_hourly_until_0126.tsv', sep=\"\\t\")"
   ]
  },
  {
   "cell_type": "code",
   "execution_count": 107,
   "metadata": {},
   "outputs": [
    {
     "data": {
      "text/plain": [
       "Index(['GoldsteinScale', 'AvgTone', 'QuadClass_1', 'QuadClass_2',\n",
       "       'QuadClass_3', 'RootEvent_TF_1'],\n",
       "      dtype='object')"
      ]
     },
     "execution_count": 107,
     "metadata": {},
     "output_type": "execute_result"
    }
   ],
   "source": [
    "df = pd.concat([df2013,df2014,df2015,df2016, df2017, df2018], axis=0)\n",
    "df['DateTime'] = df['DateTime'].apply(lambda dt: datetime.datetime.strptime(dt, '%Y-%m-%d %H:%M'))\n",
    "df = df.set_index('DateTime')\n",
    "\n",
    "#Data prior to 2015-02-18 is part of GDELT 1.0, and after that 2.0. As such, the data changes dramatically.\n",
    "#We're going to scale it somewhat unscientifically, just so it looks visually similar\n",
    "#Values are hardcoded because the transformations do not change past the division date\n",
    "df['AvgTone'] = pd.concat([df.loc[:'2015-02-17']['AvgTone']*1.1-0.046, df.loc['2015-02-18':]['AvgTone']])\n",
    "df['GoldsteinScale'] = pd.concat([df.loc[:'2015-02-17']['GoldsteinScale']*0.24+0.03, df.loc['2015-02-18':]['GoldsteinScale']])\n",
    "\n",
    "df = df[['GoldsteinScale', 'AvgTone', 'QuadClass_1', 'QuadClass_2', 'QuadClass_3', 'RootEvent_TF_1']]\n",
    "\n",
    "'''\n",
    "def adjust_eventcode(n, scale, shift):\n",
    "    df['EventRootCode_{n}'.format(n=n)] = pd.concat([df.loc[:'2015-02-17']['EventRootCode_{n}'.format(n=n)].apply(lambda x: 0 if x == 0 else x*scale+shift), df.loc['2015-02-18':]['EventRootCode_{n}'.format(n=n)]])\n",
    "\n",
    "adjust_eventcode(1, 0.18, 0.113)\n",
    "adjust_eventcode(2, 0.3, 0.05)\n",
    "adjust_eventcode(3, 0.46, 0.044)\n",
    "adjust_eventcode(4, 0.238, 0.187)\n",
    "adjust_eventcode(5, 0.45, 0.05)'''\n",
    "df.columns\n"
   ]
  },
  {
   "cell_type": "code",
   "execution_count": 108,
   "metadata": {},
   "outputs": [
    {
     "data": {
      "image/png": "[encoded data removed]",
      "text/plain": [
       "<matplotlib.figure.Figure at 0x7fc5d1418550>"
      ]
     },
     "metadata": {},
     "output_type": "display_data"
    },
    {
     "name": "stdout",
     "output_type": "stream",
     "text": [
      "None\n"
     ]
    }
   ],
   "source": [
    "print(quickplot(df.loc['2012':'2018'][['AvgTone']]))"
   ]
  },
  {
   "cell_type": "code",
   "execution_count": 109,
   "metadata": {},
   "outputs": [
    {
     "name": "stdout",
     "output_type": "stream",
     "text": [
      "Index(['Local time', 'Open', 'Close', 'Volume'], dtype='object')\n"
     ]
    },
    {
     "data": {
      "text/html": [
       "<div>\n",
       "<style>\n",
       "    .dataframe thead tr:only-child th {\n",
       "        text-align: right;\n",
       "    }\n",
       "\n",
       "    .dataframe thead th {\n",
       "        text-align: left;\n",
       "    }\n",
       "\n",
       "    .dataframe tbody tr th {\n",
       "        vertical-align: top;\n",
       "    }\n",
       "</style>\n",
       "<table border=\"1\" class=\"dataframe\">\n",
       "  <thead>\n",
       "    <tr style=\"text-align: right;\">\n",
       "      <th></th>\n",
       "      <th>Open</th>\n",
       "      <th>Close</th>\n",
       "      <th>Volume</th>\n",
       "    </tr>\n",
       "    <tr>\n",
       "      <th>Local time</th>\n",
       "      <th></th>\n",
       "      <th></th>\n",
       "      <th></th>\n",
       "    </tr>\n",
       "  </thead>\n",
       "  <tbody>\n",
       "    <tr>\n",
       "      <th>2003-05-05 00:00:00</th>\n",
       "      <td>340.345</td>\n",
       "      <td>340.345</td>\n",
       "      <td>0.00</td>\n",
       "    </tr>\n",
       "    <tr>\n",
       "      <th>2003-05-05 01:00:00</th>\n",
       "      <td>340.345</td>\n",
       "      <td>340.345</td>\n",
       "      <td>0.00</td>\n",
       "    </tr>\n",
       "    <tr>\n",
       "      <th>2003-05-05 02:00:00</th>\n",
       "      <td>340.345</td>\n",
       "      <td>340.036</td>\n",
       "      <td>80.44</td>\n",
       "    </tr>\n",
       "    <tr>\n",
       "      <th>2003-05-05 03:00:00</th>\n",
       "      <td>340.461</td>\n",
       "      <td>339.987</td>\n",
       "      <td>67.13</td>\n",
       "    </tr>\n",
       "    <tr>\n",
       "      <th>2003-05-05 04:00:00</th>\n",
       "      <td>340.134</td>\n",
       "      <td>339.989</td>\n",
       "      <td>48.17</td>\n",
       "    </tr>\n",
       "  </tbody>\n",
       "</table>\n",
       "</div>"
      ],
      "text/plain": [
       "                        Open    Close  Volume\n",
       "Local time                                   \n",
       "2003-05-05 00:00:00  340.345  340.345    0.00\n",
       "2003-05-05 01:00:00  340.345  340.345    0.00\n",
       "2003-05-05 02:00:00  340.345  340.036   80.44\n",
       "2003-05-05 03:00:00  340.461  339.987   67.13\n",
       "2003-05-05 04:00:00  340.134  339.989   48.17"
      ]
     },
     "execution_count": 109,
     "metadata": {},
     "output_type": "execute_result"
    }
   ],
   "source": [
    "goldHourly = pd.read_csv('/home/yuryivz/XAUUSD_Candlestick_1_Hour_BID_05.05.2003-20.01.2018.csv', sep=\",\")\n",
    "print(goldHourly.columns)\n",
    "goldHourly = goldHourly.set_index(goldHourly['Local time'].apply(lambda lt: datetime.datetime.strptime(lt[:16], '%d.%m.%Y %H:%M'))).drop('Local time', 1)\n",
    "goldHourly.head(5)"
   ]
  },
  {
   "cell_type": "code",
   "execution_count": 127,
   "metadata": {},
   "outputs": [
    {
     "name": "stdout",
     "output_type": "stream",
     "text": [
      "2013-01-01 00:00:00   -1.487845\n",
      "2013-01-01 01:00:00   -1.436299\n",
      "2013-01-01 02:00:00   -1.555045\n",
      "Name: future_close, dtype: float64\n"
     ]
    },
    {
     "data": {
      "text/plain": [
       "Open              1674.746000\n",
       "Close             1674.771000\n",
       "Volume              57.600000\n",
       "GoldsteinScale       0.046217\n",
       "AvgTone             -0.019299\n",
       "QuadClass_1          0.670129\n",
       "QuadClass_2          0.074677\n",
       "QuadClass_3          0.104716\n",
       "RootEvent_TF_1       0.663953\n",
       "future_close        -1.487845\n",
       "Name: 2013-01-01 00:00:00, dtype: float64"
      ]
     },
     "execution_count": 127,
     "metadata": {},
     "output_type": "execute_result"
    }
   ],
   "source": [
    "df2 = pd.merge(left=goldHourly,right=df, left_index=True, right_index=True)\n",
    "future_days = 7\n",
    "df2['future_close'] = df2['Close'].shift(-24*(future_days))#.rolling('1d').mean()\n",
    "df2['future_close'] = (df2['future_close'] - df2['Close'])/df2['Close']*100\n",
    "print(df2['future_close'].head(3))\n",
    "\n",
    "#normalize outlier\n",
    "df2.loc['2013-05-08 13:00:00'][['Volume']] = df2.loc['2013-05-08 13:00:00'][['Volume']]/10\n",
    "start_vals = df2.iloc[0]\n",
    "def scale(df, cols):\n",
    "    returnDf = pd.DataFrame({})\n",
    "    for col in cols:\n",
    "        shifted = df['{col}'.format(col=col)].shift(1)\n",
    "        returnDf['{col}'.format(col=col)] = (shifted - df['{col}'.format(col=col)])/shifted*100\n",
    "    return returnDf   \n",
    "\n",
    "def unscale(df, cols, restore_first_row):\n",
    "    returnDf = pd.DataFrame({}).append(df) \n",
    "    for col in cols:\n",
    "        returnDf[col].iloc[0] = restore_first_row[col]\n",
    "        for i in range(1, len(returnDf['{col}'.format(col=col)].values)):\n",
    "            prev = returnDf['{col}'.format(col=col)].iloc[i-1]\n",
    "            returnDf['{col}'.format(col=col)].iloc[i] = prev  - returnDf['{col}'.format(col=col)].iloc[i]*prev/100\n",
    "    return returnDf\n",
    "\n",
    "cols_to_scale = ['Open', 'Close']\n",
    "df2 = pd.merge(left=df2.drop(cols_to_scale, 1), right=scale(df2, cols_to_scale), left_index=True, right_index=True)\n",
    "#df2 = unscale(df2, ['Close', 'Open'], start_vals)\n",
    "start_vals"
   ]
  },
  {
   "cell_type": "code",
   "execution_count": 128,
   "metadata": {},
   "outputs": [
    {
     "name": "stdout",
     "output_type": "stream",
     "text": [
      "                     future_close\n",
      "2013-01-01 00:00:00     -1.487845\n",
      "2013-01-01 01:00:00     -1.436299\n",
      "2013-01-01 02:00:00     -1.555045\n"
     ]
    }
   ],
   "source": [
    "print(df2[['future_close']].head(3))"
   ]
  },
  {
   "cell_type": "code",
   "execution_count": 129,
   "metadata": {
    "collapsed": true
   },
   "outputs": [],
   "source": [
    "#https://machinelearningmastery.com/convert-time-series-supervised-learning-problem-python/\n",
    "def series_to_supervised(df, n_in=1, n_out=1, dropnan=False):\n",
    "    \"\"\"\n",
    "    Frame a time series as a supervised learning dataset.\n",
    "    Arguments:\n",
    "        data: Sequence of observations as a list or NumPy array.\n",
    "        n_in: Number of lag observations as input (X).\n",
    "        n_out: Number of observations as output (y).\n",
    "        dropnan: Boolean whether or not to drop rows with NaN values.\n",
    "    Returns:\n",
    "        Pandas DataFrame of series framed for supervised learning.\n",
    "    \"\"\"\n",
    "    n_vars = df.shape[1]\n",
    "    col_names = df.columns.values\n",
    "    cols, names = list(), list()\n",
    "    # input sequence (t-n, ... t-1)\n",
    "    for i in range(n_in, 0, -1):\n",
    "        cols.append(df.shift(i))\n",
    "        names += [('{var}__t-%d' % (i)).format(var=col_names[j]) for j in range(n_vars)]\n",
    "    # forecast sequence (t, t+1, ... t+n)\n",
    "    for i in range(0, n_out):\n",
    "        cols.append(df.shift(-i))\n",
    "        if i == 0:\n",
    "            names += [('{var}__t'.format(var=col_names[j])) for j in range(n_vars)]\n",
    "        else:\n",
    "            names += [('{var}__t+%d'.format(var=col_names[j])) % (i) for j in range(n_vars)]\n",
    "    # put it all together\n",
    "    agg = pd.concat(cols, axis=1)\n",
    "    agg.columns = names\n",
    "    # drop rows with NaN values\n",
    "    if dropnan:\n",
    "        agg.dropna(inplace=True)\n",
    "    return agg"
   ]
  },
  {
   "cell_type": "code",
   "execution_count": 130,
   "metadata": {},
   "outputs": [
    {
     "data": {
      "text/plain": [
       "Index(['Volume', 'GoldsteinScale', 'AvgTone', 'QuadClass_1', 'QuadClass_2',\n",
       "       'QuadClass_3', 'RootEvent_TF_1', 'future_close', 'Open', 'Close',\n",
       "       ...\n",
       "       'GoldsteinScale__t', 'AvgTone__t', 'QuadClass_1__t', 'QuadClass_2__t',\n",
       "       'QuadClass_3__t', 'RootEvent_TF_1__t', 'Open__t', 'Close__t',\n",
       "       'FromMonday__t', 'Weekday__t'],\n",
       "      dtype='object', length=1871)"
      ]
     },
     "execution_count": 130,
     "metadata": {},
     "output_type": "execute_result"
    }
   ],
   "source": [
    "#Add past hours of AvgTone and GoldsteinScale\n",
    "time_steps_back = 168\n",
    "\n",
    "df2['Volume'] = df2['Volume'].fillna(1).apply(lambda v: (0 if v < 1 else math.log(v))/10)\n",
    "\n",
    "week_dict = {0: 0, 1: 0.2, 2: 0.4, 3: 0.6, 4: 0.4, 5: 0.2, 6: 0}\n",
    "\n",
    "df2['FromMonday'] = df2.index.map(lambda w: w.weekday()/10)\n",
    "df2['Weekday'] = df2['FromMonday'].apply(lambda w: week_dict[w*10])\n",
    "\n",
    "base_features = list(df2.columns.values)\n",
    "base_features.remove('future_close')\n",
    "\n",
    "df2 = pd.merge(left=df2,right= series_to_supervised(df2.drop('future_close', 1), n_in=time_steps_back, n_out=1), left_index=True, right_index=True)\n",
    "\n",
    "df2.columns"
   ]
  },
  {
   "cell_type": "code",
   "execution_count": 131,
   "metadata": {},
   "outputs": [
    {
     "data": {
      "text/html": [
       "<div>\n",
       "<style>\n",
       "    .dataframe thead tr:only-child th {\n",
       "        text-align: right;\n",
       "    }\n",
       "\n",
       "    .dataframe thead th {\n",
       "        text-align: left;\n",
       "    }\n",
       "\n",
       "    .dataframe tbody tr th {\n",
       "        vertical-align: top;\n",
       "    }\n",
       "</style>\n",
       "<table border=\"1\" class=\"dataframe\">\n",
       "  <thead>\n",
       "    <tr style=\"text-align: right;\">\n",
       "      <th></th>\n",
       "      <th>Volume</th>\n",
       "      <th>GoldsteinScale</th>\n",
       "      <th>AvgTone</th>\n",
       "      <th>QuadClass_1</th>\n",
       "      <th>QuadClass_2</th>\n",
       "      <th>QuadClass_3</th>\n",
       "      <th>RootEvent_TF_1</th>\n",
       "      <th>future_close</th>\n",
       "      <th>Open</th>\n",
       "      <th>Close</th>\n",
       "      <th>...</th>\n",
       "      <th>GoldsteinScale__t</th>\n",
       "      <th>AvgTone__t</th>\n",
       "      <th>QuadClass_1__t</th>\n",
       "      <th>QuadClass_2__t</th>\n",
       "      <th>QuadClass_3__t</th>\n",
       "      <th>RootEvent_TF_1__t</th>\n",
       "      <th>Open__t</th>\n",
       "      <th>Close__t</th>\n",
       "      <th>FromMonday__t</th>\n",
       "      <th>Weekday__t</th>\n",
       "    </tr>\n",
       "  </thead>\n",
       "  <tbody>\n",
       "    <tr>\n",
       "      <th>0</th>\n",
       "      <td>0.405352</td>\n",
       "      <td>0.046217</td>\n",
       "      <td>-0.019299</td>\n",
       "      <td>0.670129</td>\n",
       "      <td>0.074677</td>\n",
       "      <td>0.104716</td>\n",
       "      <td>0.663953</td>\n",
       "      <td>-1.487845</td>\n",
       "      <td>NaN</td>\n",
       "      <td>NaN</td>\n",
       "      <td>...</td>\n",
       "      <td>0.046217</td>\n",
       "      <td>-0.019299</td>\n",
       "      <td>0.670129</td>\n",
       "      <td>0.074677</td>\n",
       "      <td>0.104716</td>\n",
       "      <td>0.663953</td>\n",
       "      <td>NaN</td>\n",
       "      <td>NaN</td>\n",
       "      <td>0.1</td>\n",
       "      <td>0.2</td>\n",
       "    </tr>\n",
       "    <tr>\n",
       "      <th>1</th>\n",
       "      <td>0.000000</td>\n",
       "      <td>0.039041</td>\n",
       "      <td>-0.017573</td>\n",
       "      <td>0.606682</td>\n",
       "      <td>0.104155</td>\n",
       "      <td>0.092645</td>\n",
       "      <td>0.700168</td>\n",
       "      <td>-1.436299</td>\n",
       "      <td>-0.015166</td>\n",
       "      <td>-0.013674</td>\n",
       "      <td>...</td>\n",
       "      <td>0.039041</td>\n",
       "      <td>-0.017573</td>\n",
       "      <td>0.606682</td>\n",
       "      <td>0.104155</td>\n",
       "      <td>0.092645</td>\n",
       "      <td>0.700168</td>\n",
       "      <td>-0.015166</td>\n",
       "      <td>-0.013674</td>\n",
       "      <td>0.1</td>\n",
       "      <td>0.2</td>\n",
       "    </tr>\n",
       "    <tr>\n",
       "      <th>2</th>\n",
       "      <td>0.000000</td>\n",
       "      <td>0.058883</td>\n",
       "      <td>-0.015837</td>\n",
       "      <td>0.653187</td>\n",
       "      <td>0.130862</td>\n",
       "      <td>0.110924</td>\n",
       "      <td>0.651783</td>\n",
       "      <td>-1.555045</td>\n",
       "      <td>0.000000</td>\n",
       "      <td>0.000000</td>\n",
       "      <td>...</td>\n",
       "      <td>0.058883</td>\n",
       "      <td>-0.015837</td>\n",
       "      <td>0.653187</td>\n",
       "      <td>0.130862</td>\n",
       "      <td>0.110924</td>\n",
       "      <td>0.651783</td>\n",
       "      <td>0.000000</td>\n",
       "      <td>0.000000</td>\n",
       "      <td>0.1</td>\n",
       "      <td>0.2</td>\n",
       "    </tr>\n",
       "    <tr>\n",
       "      <th>3</th>\n",
       "      <td>0.000000</td>\n",
       "      <td>-0.015483</td>\n",
       "      <td>-0.026073</td>\n",
       "      <td>0.421392</td>\n",
       "      <td>0.123245</td>\n",
       "      <td>0.102190</td>\n",
       "      <td>0.699888</td>\n",
       "      <td>-1.476239</td>\n",
       "      <td>0.000000</td>\n",
       "      <td>0.000000</td>\n",
       "      <td>...</td>\n",
       "      <td>-0.015483</td>\n",
       "      <td>-0.026073</td>\n",
       "      <td>0.421392</td>\n",
       "      <td>0.123245</td>\n",
       "      <td>0.102190</td>\n",
       "      <td>0.699888</td>\n",
       "      <td>0.000000</td>\n",
       "      <td>0.000000</td>\n",
       "      <td>0.1</td>\n",
       "      <td>0.2</td>\n",
       "    </tr>\n",
       "    <tr>\n",
       "      <th>4</th>\n",
       "      <td>0.000000</td>\n",
       "      <td>0.045017</td>\n",
       "      <td>-0.018113</td>\n",
       "      <td>0.660865</td>\n",
       "      <td>0.097979</td>\n",
       "      <td>0.088714</td>\n",
       "      <td>0.688658</td>\n",
       "      <td>-1.562806</td>\n",
       "      <td>0.000000</td>\n",
       "      <td>0.000000</td>\n",
       "      <td>...</td>\n",
       "      <td>0.045017</td>\n",
       "      <td>-0.018113</td>\n",
       "      <td>0.660865</td>\n",
       "      <td>0.097979</td>\n",
       "      <td>0.088714</td>\n",
       "      <td>0.688658</td>\n",
       "      <td>0.000000</td>\n",
       "      <td>0.000000</td>\n",
       "      <td>0.1</td>\n",
       "      <td>0.2</td>\n",
       "    </tr>\n",
       "  </tbody>\n",
       "</table>\n",
       "<p>5 rows × 1871 columns</p>\n",
       "</div>"
      ],
      "text/plain": [
       "     Volume  GoldsteinScale   AvgTone  QuadClass_1  QuadClass_2  QuadClass_3  \\\n",
       "0  0.405352        0.046217 -0.019299     0.670129     0.074677     0.104716   \n",
       "1  0.000000        0.039041 -0.017573     0.606682     0.104155     0.092645   \n",
       "2  0.000000        0.058883 -0.015837     0.653187     0.130862     0.110924   \n",
       "3  0.000000       -0.015483 -0.026073     0.421392     0.123245     0.102190   \n",
       "4  0.000000        0.045017 -0.018113     0.660865     0.097979     0.088714   \n",
       "\n",
       "   RootEvent_TF_1  future_close      Open     Close     ...      \\\n",
       "0        0.663953     -1.487845       NaN       NaN     ...       \n",
       "1        0.700168     -1.436299 -0.015166 -0.013674     ...       \n",
       "2        0.651783     -1.555045  0.000000  0.000000     ...       \n",
       "3        0.699888     -1.476239  0.000000  0.000000     ...       \n",
       "4        0.688658     -1.562806  0.000000  0.000000     ...       \n",
       "\n",
       "   GoldsteinScale__t  AvgTone__t  QuadClass_1__t  QuadClass_2__t  \\\n",
       "0           0.046217   -0.019299        0.670129        0.074677   \n",
       "1           0.039041   -0.017573        0.606682        0.104155   \n",
       "2           0.058883   -0.015837        0.653187        0.130862   \n",
       "3          -0.015483   -0.026073        0.421392        0.123245   \n",
       "4           0.045017   -0.018113        0.660865        0.097979   \n",
       "\n",
       "   QuadClass_3__t  RootEvent_TF_1__t   Open__t  Close__t  FromMonday__t  \\\n",
       "0        0.104716           0.663953       NaN       NaN            0.1   \n",
       "1        0.092645           0.700168 -0.015166 -0.013674            0.1   \n",
       "2        0.110924           0.651783  0.000000  0.000000            0.1   \n",
       "3        0.102190           0.699888  0.000000  0.000000            0.1   \n",
       "4        0.088714           0.688658  0.000000  0.000000            0.1   \n",
       "\n",
       "   Weekday__t  \n",
       "0         0.2  \n",
       "1         0.2  \n",
       "2         0.2  \n",
       "3         0.2  \n",
       "4         0.2  \n",
       "\n",
       "[5 rows x 1871 columns]"
      ]
     },
     "execution_count": 131,
     "metadata": {},
     "output_type": "execute_result"
    }
   ],
   "source": [
    "df2.reset_index().drop('index', 1).head(5)"
   ]
  },
  {
   "cell_type": "code",
   "execution_count": 114,
   "metadata": {},
   "outputs": [
    {
     "data": {
      "image/png": "[encoded data removed]",
      "text/plain": [
       "<matplotlib.figure.Figure at 0x7fc5d131bc88>"
      ]
     },
     "metadata": {},
     "output_type": "display_data"
    },
    {
     "name": "stdout",
     "output_type": "stream",
     "text": [
      "None\n"
     ]
    },
    {
     "data": {
      "image/png": "[encoded data removed]",
      "text/plain": [
       "<matplotlib.figure.Figure at 0x7fc5d1852b70>"
      ]
     },
     "metadata": {},
     "output_type": "display_data"
    },
    {
     "name": "stdout",
     "output_type": "stream",
     "text": [
      "None\n"
     ]
    }
   ],
   "source": [
    "print(quickplot(df2[['Close','future_close' , 'Volume']]))\n",
    "print(quickplot(df2['2015-01'][['Volume']]))"
   ]
  },
  {
   "cell_type": "code",
   "execution_count": 132,
   "metadata": {},
   "outputs": [
    {
     "name": "stdout",
     "output_type": "stream",
     "text": [
      "['future_close']\n"
     ]
    },
    {
     "data": {
      "text/html": [
       "<div>\n",
       "<style>\n",
       "    .dataframe thead tr:only-child th {\n",
       "        text-align: right;\n",
       "    }\n",
       "\n",
       "    .dataframe thead th {\n",
       "        text-align: left;\n",
       "    }\n",
       "\n",
       "    .dataframe tbody tr th {\n",
       "        vertical-align: top;\n",
       "    }\n",
       "</style>\n",
       "<table border=\"1\" class=\"dataframe\">\n",
       "  <thead>\n",
       "    <tr style=\"text-align: right;\">\n",
       "      <th></th>\n",
       "      <th>future_close</th>\n",
       "    </tr>\n",
       "  </thead>\n",
       "  <tbody>\n",
       "    <tr>\n",
       "      <th>2018-01-01 19:00:00</th>\n",
       "      <td>1.249787</td>\n",
       "    </tr>\n",
       "    <tr>\n",
       "      <th>2018-01-01 20:00:00</th>\n",
       "      <td>1.261072</td>\n",
       "    </tr>\n",
       "    <tr>\n",
       "      <th>2018-01-01 21:00:00</th>\n",
       "      <td>1.335691</td>\n",
       "    </tr>\n",
       "    <tr>\n",
       "      <th>2018-01-01 22:00:00</th>\n",
       "      <td>1.351812</td>\n",
       "    </tr>\n",
       "    <tr>\n",
       "      <th>2018-01-01 23:00:00</th>\n",
       "      <td>1.351812</td>\n",
       "    </tr>\n",
       "  </tbody>\n",
       "</table>\n",
       "</div>"
      ],
      "text/plain": [
       "                     future_close\n",
       "2018-01-01 19:00:00      1.249787\n",
       "2018-01-01 20:00:00      1.261072\n",
       "2018-01-01 21:00:00      1.335691\n",
       "2018-01-01 22:00:00      1.351812\n",
       "2018-01-01 23:00:00      1.351812"
      ]
     },
     "execution_count": 132,
     "metadata": {},
     "output_type": "execute_result"
    }
   ],
   "source": [
    "pretrainDf = df2\n",
    "start_date = datetime.datetime.strptime('2015-02-01', \"%Y-%m-%d\")# + datetime.timedelta(hours = 168)\n",
    "end_date = '2017-06-01'\n",
    "val_end_date = '2018-01-01'\n",
    "prediction_columns = ['future_close']\n",
    "print(prediction_columns)\n",
    "\n",
    "train_y_df = pretrainDf.loc[start_date:end_date][prediction_columns]\n",
    "test_y_df = pretrainDf.loc[end_date:val_end_date][prediction_columns]\n",
    "test_y_df.tail(5)"
   ]
  },
  {
   "cell_type": "code",
   "execution_count": 133,
   "metadata": {},
   "outputs": [
    {
     "name": "stdout",
     "output_type": "stream",
     "text": [
      "Index(['future_close'], dtype='object')\n"
     ]
    }
   ],
   "source": [
    "print(df2.filter(regex='future_close.*').columns)"
   ]
  },
  {
   "cell_type": "markdown",
   "metadata": {},
   "source": [
    "### Train and test"
   ]
  },
  {
   "cell_type": "code",
   "execution_count": 134,
   "metadata": {
    "collapsed": true
   },
   "outputs": [],
   "source": [
    "%%capture\n",
    "train = pretrainDf.loc[start_date:end_date]\n",
    "test = pretrainDf.loc[end_date:val_end_date]\n",
    "\n",
    "def convertX(tr=train, te=test):\n",
    "    train_panel ={}\n",
    "    test_panel = {}\n",
    "    for i in range(1, time_steps_back+1):\n",
    "        r = '__t-{i}($|\\D)'.format(i=i)\n",
    "\n",
    "        df_temp_train = tr.filter(regex=r)\n",
    "        df_temp_test = te.filter(regex=r)\n",
    "        df_temp_train.columns = df_temp_test.columns = tr.filter(regex=r).columns.map(lambda c: c[:len(c) - (len(str(i)) + 4)])\n",
    "\n",
    "        colName = 'a' + str(i) if i<10 else 'b' + str(i) if i<100 else 'c' + str(i)\n",
    "        train_panel[colName] = df_temp_train\n",
    "        test_panel[colName] = df_temp_test\n",
    "\n",
    "    train_panel = pd.Panel(train_panel).swapaxes(0, 1, copy=True).swapaxes(1, 2, copy=True)\n",
    "    test_panel = pd.Panel(test_panel).swapaxes(0, 1, copy=True).swapaxes(1, 2, copy=True)\n",
    "    print(train_panel)    \n",
    "    return (train_panel.values, test_panel.values)\n",
    "\n",
    "train_X, test_X = convertX()\n",
    "train_y = train_y_df.values\n",
    "test_y = test_y_df.values"
   ]
  },
  {
   "cell_type": "code",
   "execution_count": 135,
   "metadata": {},
   "outputs": [
    {
     "name": "stdout",
     "output_type": "stream",
     "text": [
      "(20475, 11, 168) (20475, 1)\n",
      "(5175, 11, 168) (5175, 1)\n"
     ]
    },
    {
     "data": {
      "text/plain": [
       "dtype('float64')"
      ]
     },
     "execution_count": 135,
     "metadata": {},
     "output_type": "execute_result"
    }
   ],
   "source": [
    "print(train_X.shape, train_y.shape)\n",
    "print(test_X.shape, test_y.shape)\n",
    "test_y\n",
    "train_X.dtype"
   ]
  },
  {
   "cell_type": "code",
   "execution_count": 136,
   "metadata": {},
   "outputs": [
    {
     "name": "stdout",
     "output_type": "stream",
     "text": [
      "['Volume', 'GoldsteinScale', 'AvgTone', 'QuadClass_1', 'QuadClass_2', 'QuadClass_3', 'RootEvent_TF_1', 'Open', 'Close', 'FromMonday', 'Weekday']\n"
     ]
    }
   ],
   "source": [
    "print(base_features)\n",
    "model = Sequential()\n",
    "model.add(LSTM(len(base_features)*10, input_shape=(train_X.shape[1], train_X.shape[2]), return_sequences=True))\n",
    "#model.add(Dropout(0.1))\n",
    "model.add(LSTM(100, return_sequences=True))\n",
    "#model.add(Dropout(0.1))\n",
    "model.add(LSTM(100, return_sequences=True))\n",
    "#model.add(Dropout(0.1))\n",
    "model.add(LSTM(100))\n",
    "model.add(Dense(len(prediction_columns), activation='linear'))\n",
    "model.compile(loss='mse', optimizer='rmsprop')"
   ]
  },
  {
   "cell_type": "code",
   "execution_count": 137,
   "metadata": {},
   "outputs": [
    {
     "name": "stdout",
     "output_type": "stream",
     "text": [
      "Train on 20475 samples, validate on 5175 samples\n",
      "Epoch 1/15\n",
      "\n",
      "Epoch 00001: val_loss improved from inf to 2.02930, saving model to weights-2.hdf5\n",
      " - 19s - loss: 3.9710 - val_loss: 2.0293\n",
      "Epoch 2/15\n",
      "\n",
      "Epoch 00002: val_loss improved from 2.02930 to 2.01978, saving model to weights-2.hdf5\n",
      " - 17s - loss: 3.9665 - val_loss: 2.0198\n",
      "Epoch 3/15\n",
      "\n",
      "Epoch 00003: val_loss improved from 2.01978 to 2.01499, saving model to weights-2.hdf5\n",
      " - 17s - loss: 3.9648 - val_loss: 2.0150\n",
      "Epoch 4/15\n",
      "\n",
      "Epoch 00004: val_loss improved from 2.01499 to 2.01370, saving model to weights-2.hdf5\n",
      " - 17s - loss: 3.9643 - val_loss: 2.0137\n",
      "Epoch 5/15\n",
      "\n",
      "Epoch 00005: val_loss improved from 2.01370 to 2.00889, saving model to weights-2.hdf5\n",
      " - 17s - loss: 3.9642 - val_loss: 2.0089\n",
      "Epoch 6/15\n",
      "\n",
      "Epoch 00006: val_loss did not improve\n",
      " - 18s - loss: 3.9636 - val_loss: 2.0144\n",
      "Epoch 7/15\n",
      "\n",
      "Epoch 00007: val_loss improved from 2.00889 to 2.00160, saving model to weights-2.hdf5\n",
      " - 17s - loss: 3.9607 - val_loss: 2.0016\n",
      "Epoch 8/15\n",
      "\n",
      "Epoch 00008: val_loss improved from 2.00160 to 1.97390, saving model to weights-2.hdf5\n",
      " - 17s - loss: 3.9331 - val_loss: 1.9739\n",
      "Epoch 9/15\n",
      "\n",
      "Epoch 00009: val_loss improved from 1.97390 to 1.97228, saving model to weights-2.hdf5\n",
      " - 17s - loss: 3.9148 - val_loss: 1.9723\n",
      "Epoch 10/15\n",
      "\n",
      "Epoch 00010: val_loss improved from 1.97228 to 1.96372, saving model to weights-2.hdf5\n",
      " - 17s - loss: 3.9065 - val_loss: 1.9637\n",
      "Epoch 11/15\n",
      "\n",
      "Epoch 00011: val_loss did not improve\n",
      " - 17s - loss: 3.8936 - val_loss: 2.0306\n",
      "Epoch 12/15\n",
      "\n",
      "Epoch 00012: val_loss did not improve\n",
      " - 17s - loss: 3.8834 - val_loss: 2.0019\n",
      "Epoch 00012: early stopping\n"
     ]
    },
    {
     "data": {
      "image/png": "[encoded data removed]",
      "text/plain": [
       "<matplotlib.figure.Figure at 0x7fc5d81a9160>"
      ]
     },
     "metadata": {},
     "output_type": "display_data"
    }
   ],
   "source": [
    "checkpoint = ModelCheckpoint(\"weights-2.hdf5\", monitor='val_loss', verbose=3, save_best_only=True, mode='min')\n",
    "stopping = EarlyStopping(monitor='val_loss', min_delta=0, patience=2, verbose=3, mode='auto')\n",
    "\n",
    "callbacks_list = [checkpoint, stopping]  \n",
    "\n",
    "history = model.fit(train_X, train_y, epochs=15, batch_size=500, validation_data=(test_X, test_y), verbose=2, shuffle=True, callbacks = callbacks_list)\n",
    "\n",
    "plt.plot(history.history['loss'], label='train')\n",
    "plt.plot(history.history['val_loss'], label='test')\n",
    "plt.legend()\n",
    "plt.show()"
   ]
  },
  {
   "cell_type": "code",
   "execution_count": 17,
   "metadata": {
    "collapsed": true
   },
   "outputs": [
    {
     "ename": "IndexError",
     "evalue": "list index out of range",
     "output_type": "error",
     "traceback": [
      "\u001b[0;31m---------------------------------------------------------------------------\u001b[0m",
      "\u001b[0;31mIndexError\u001b[0m                                Traceback (most recent call last)",
      "\u001b[0;32m<ipython-input-17-c723decd1062>\u001b[0m in \u001b[0;36m<module>\u001b[0;34m()\u001b[0m\n\u001b[0;32m----> 1\u001b[0;31m \u001b[0mmodel\u001b[0m\u001b[0;34m.\u001b[0m\u001b[0mload_weights\u001b[0m\u001b[0;34m(\u001b[0m\u001b[0;34m\"weights-2.hdf5\"\u001b[0m\u001b[0;34m)\u001b[0m\u001b[0;34m\u001b[0m\u001b[0m\n\u001b[0m",
      "\u001b[0;32m~/anaconda3/lib/python3.6/site-packages/keras/models.py\u001b[0m in \u001b[0;36mload_weights\u001b[0;34m(self, filepath, by_name, skip_mismatch)\u001b[0m\n\u001b[1;32m    727\u001b[0m \u001b[0;34m\u001b[0m\u001b[0m\n\u001b[1;32m    728\u001b[0m         \u001b[0;31m# Legacy support\u001b[0m\u001b[0;34m\u001b[0m\u001b[0;34m\u001b[0m\u001b[0m\n\u001b[0;32m--> 729\u001b[0;31m         \u001b[0;32mif\u001b[0m \u001b[0mlegacy_models\u001b[0m\u001b[0;34m.\u001b[0m\u001b[0mneeds_legacy_support\u001b[0m\u001b[0;34m(\u001b[0m\u001b[0mself\u001b[0m\u001b[0;34m)\u001b[0m\u001b[0;34m:\u001b[0m\u001b[0;34m\u001b[0m\u001b[0m\n\u001b[0m\u001b[1;32m    730\u001b[0m             \u001b[0mlayers\u001b[0m \u001b[0;34m=\u001b[0m \u001b[0mlegacy_models\u001b[0m\u001b[0;34m.\u001b[0m\u001b[0mlegacy_sequential_layers\u001b[0m\u001b[0;34m(\u001b[0m\u001b[0mself\u001b[0m\u001b[0;34m)\u001b[0m\u001b[0;34m\u001b[0m\u001b[0m\n\u001b[1;32m    731\u001b[0m         \u001b[0;32melse\u001b[0m\u001b[0;34m:\u001b[0m\u001b[0;34m\u001b[0m\u001b[0m\n",
      "\u001b[0;32m~/anaconda3/lib/python3.6/site-packages/keras/legacy/models.py\u001b[0m in \u001b[0;36mneeds_legacy_support\u001b[0;34m(model)\u001b[0m\n\u001b[1;32m      7\u001b[0m \u001b[0;34m\u001b[0m\u001b[0m\n\u001b[1;32m      8\u001b[0m \u001b[0;32mdef\u001b[0m \u001b[0mneeds_legacy_support\u001b[0m\u001b[0;34m(\u001b[0m\u001b[0mmodel\u001b[0m\u001b[0;34m)\u001b[0m\u001b[0;34m:\u001b[0m\u001b[0;34m\u001b[0m\u001b[0m\n\u001b[0;32m----> 9\u001b[0;31m     \u001b[0;32mreturn\u001b[0m \u001b[0misinstance\u001b[0m\u001b[0;34m(\u001b[0m\u001b[0mmodel\u001b[0m\u001b[0;34m.\u001b[0m\u001b[0mlayers\u001b[0m\u001b[0;34m[\u001b[0m\u001b[0;36m0\u001b[0m\u001b[0;34m]\u001b[0m\u001b[0;34m,\u001b[0m \u001b[0mMerge\u001b[0m\u001b[0;34m)\u001b[0m\u001b[0;34m\u001b[0m\u001b[0m\n\u001b[0m\u001b[1;32m     10\u001b[0m \u001b[0;34m\u001b[0m\u001b[0m\n\u001b[1;32m     11\u001b[0m \u001b[0;34m\u001b[0m\u001b[0m\n",
      "\u001b[0;31mIndexError\u001b[0m: list index out of range"
     ]
    }
   ],
   "source": [
    "model.load_weights(\"weights-2.hdf5\")"
   ]
  },
  {
   "cell_type": "code",
   "execution_count": 151,
   "metadata": {},
   "outputs": [
    {
     "name": "stderr",
     "output_type": "stream",
     "text": [
      "/home/yuryivz/anaconda3/lib/python3.6/site-packages/ipykernel_launcher.py:17: SettingWithCopyWarning: \n",
      "A value is trying to be set on a copy of a slice from a DataFrame.\n",
      "Try using .loc[row_indexer,col_indexer] = value instead\n",
      "\n",
      "See the caveats in the documentation: http://pandas.pydata.org/pandas-docs/stable/indexing.html#indexing-view-versus-copy\n"
     ]
    },
    {
     "data": {
      "text/html": [
       "<div>\n",
       "<style>\n",
       "    .dataframe thead tr:only-child th {\n",
       "        text-align: right;\n",
       "    }\n",
       "\n",
       "    .dataframe thead th {\n",
       "        text-align: left;\n",
       "    }\n",
       "\n",
       "    .dataframe tbody tr th {\n",
       "        vertical-align: top;\n",
       "    }\n",
       "</style>\n",
       "<table border=\"1\" class=\"dataframe\">\n",
       "  <thead>\n",
       "    <tr style=\"text-align: right;\">\n",
       "      <th></th>\n",
       "      <th>Close</th>\n",
       "      <th>prediction</th>\n",
       "      <th>future_close</th>\n",
       "    </tr>\n",
       "  </thead>\n",
       "  <tbody>\n",
       "    <tr>\n",
       "      <th>2017-12-25 14:00:00</th>\n",
       "      <td>1274.752</td>\n",
       "      <td>1245.723907</td>\n",
       "      <td>1302.622</td>\n",
       "    </tr>\n",
       "    <tr>\n",
       "      <th>2017-12-25 15:00:00</th>\n",
       "      <td>1274.752</td>\n",
       "      <td>1245.202960</td>\n",
       "      <td>1302.622</td>\n",
       "    </tr>\n",
       "    <tr>\n",
       "      <th>2017-12-25 16:00:00</th>\n",
       "      <td>1274.752</td>\n",
       "      <td>1244.718071</td>\n",
       "      <td>1302.622</td>\n",
       "    </tr>\n",
       "    <tr>\n",
       "      <th>2017-12-25 17:00:00</th>\n",
       "      <td>1274.752</td>\n",
       "      <td>1244.156805</td>\n",
       "      <td>1302.622</td>\n",
       "    </tr>\n",
       "    <tr>\n",
       "      <th>2017-12-25 18:00:00</th>\n",
       "      <td>1274.752</td>\n",
       "      <td>1243.556492</td>\n",
       "      <td>1302.622</td>\n",
       "    </tr>\n",
       "    <tr>\n",
       "      <th>2017-12-25 19:00:00</th>\n",
       "      <td>1274.752</td>\n",
       "      <td>1242.909933</td>\n",
       "      <td>1302.622</td>\n",
       "    </tr>\n",
       "    <tr>\n",
       "      <th>2017-12-25 20:00:00</th>\n",
       "      <td>1274.752</td>\n",
       "      <td>1242.304353</td>\n",
       "      <td>1302.622</td>\n",
       "    </tr>\n",
       "    <tr>\n",
       "      <th>2017-12-25 21:00:00</th>\n",
       "      <td>1274.752</td>\n",
       "      <td>1241.710537</td>\n",
       "      <td>1302.622</td>\n",
       "    </tr>\n",
       "    <tr>\n",
       "      <th>2017-12-25 22:00:00</th>\n",
       "      <td>1274.752</td>\n",
       "      <td>1241.087258</td>\n",
       "      <td>1302.622</td>\n",
       "    </tr>\n",
       "    <tr>\n",
       "      <th>2017-12-25 23:00:00</th>\n",
       "      <td>1274.752</td>\n",
       "      <td>1240.441744</td>\n",
       "      <td>1302.622</td>\n",
       "    </tr>\n",
       "  </tbody>\n",
       "</table>\n",
       "</div>"
      ],
      "text/plain": [
       "                        Close   prediction  future_close\n",
       "2017-12-25 14:00:00  1274.752  1245.723907      1302.622\n",
       "2017-12-25 15:00:00  1274.752  1245.202960      1302.622\n",
       "2017-12-25 16:00:00  1274.752  1244.718071      1302.622\n",
       "2017-12-25 17:00:00  1274.752  1244.156805      1302.622\n",
       "2017-12-25 18:00:00  1274.752  1243.556492      1302.622\n",
       "2017-12-25 19:00:00  1274.752  1242.909933      1302.622\n",
       "2017-12-25 20:00:00  1274.752  1242.304353      1302.622\n",
       "2017-12-25 21:00:00  1274.752  1241.710537      1302.622\n",
       "2017-12-25 22:00:00  1274.752  1241.087258      1302.622\n",
       "2017-12-25 23:00:00  1274.752  1240.441744      1302.622"
      ]
     },
     "execution_count": 151,
     "metadata": {},
     "output_type": "execute_result"
    }
   ],
   "source": [
    "# make a prediction\n",
    "yhat = pd.DataFrame(model.predict(test_X))\n",
    "yhat.columns = prediction_columns\n",
    "yhat = yhat.set_index(test.index)\n",
    "yhat['future_close'] = yhat['future_close']/15\n",
    "\n",
    "last_df = pd.DataFrame({}).append(pretrainDf)\n",
    "pred_start_date = yhat.index[0]\n",
    "pred_end_date = yhat.index[-1] \n",
    "\n",
    "pred_appended = last_df\n",
    "#pred_appended = pred_appended.rename(columns={'future_close': 'truth'})\n",
    "\n",
    "col = pd.concat([pred_appended['future_close'].loc[:(pred_start_date - datetime.timedelta(hours=1))], yhat['future_close']], axis=0)\n",
    "\n",
    "pred_appended = pred_appended.loc[:pred_end_date]\n",
    "pred_appended['prediction'] = col.values\n",
    "\n",
    "yhat = unscale(pred_appended, ['Close', 'Open'], start_vals)\n",
    "yhat['pred2'] = ((yhat['prediction']/100)*yhat['Close']) + yhat['Close']\n",
    "\n",
    "tempdf = pd.DataFrame({}).append(yhat).drop('prediction', 1).rename(columns={'pred2': 'prediction'})\n",
    "yhat['prediction'][:pred_start_date] = yhat['pred2'][:pred_start_date]\n",
    "\n",
    "w = 168\n",
    "diff = (pred_end_date - pred_start_date)\n",
    "total_steps = int(diff.days * 24 + diff.seconds // 3600)\n",
    "print(total_steps)\n",
    "\n",
    "for i in range(0, math.ceil(total_steps/w)):\n",
    "    s = pred_start_date + datetime.timedelta(hours=w*i)\n",
    "    e = pred_start_date + datetime.timedelta(hours=w*(i+1))\n",
    "    \n",
    "    yhat[s:e] = unscale(yhat[s:e], ['prediction'], tempdf.loc[s])\n",
    "    #yhat[pred_start_date:] = unscale(yhat[pred_start_date:], ['prediction'], tempdf.iloc[0])\n",
    "\n",
    "yhat['future_close'] = ((yhat['future_close']/100)*yhat['Close']) + yhat['Close']\n",
    "\n",
    "yhat[['Close', 'prediction', 'future_close']][:-168].tail(10)"
   ]
  },
  {
   "cell_type": "markdown",
   "metadata": {},
   "source": [
    "## Future Predictions"
   ]
  },
  {
   "cell_type": "code",
   "execution_count": 153,
   "metadata": {},
   "outputs": [
    {
     "data": {
      "image/png": "[encoded data removed]",
      "text/plain": [
       "<matplotlib.figure.Figure at 0x7fc5d17919e8>"
      ]
     },
     "metadata": {},
     "output_type": "display_data"
    }
   ],
   "source": [
    "offset = 0\n",
    "i = yhat.loc['2017-05':'2017-07'].index[:-119]\n",
    "t = yhat[i[0]:i[-1]]['prediction']\n",
    "p = yhat[i[0]:i[-1]]['future_close']\n",
    "plt.xticks(rotation=-25)\n",
    "plt.ylabel('USD', fontsize=12)\n",
    "plt.plot(i, t + offset, linestyle='None',marker='.', markersize=1)\n",
    "plt.plot(i, p)\n",
    "plt.show()"
   ]
  },
  {
   "cell_type": "code",
   "execution_count": 30,
   "metadata": {},
   "outputs": [
    {
     "name": "stdout",
     "output_type": "stream",
     "text": [
      "2017-06-01 00:00:00 2018-01-01 23:00:00\n"
     ]
    }
   ],
   "source": [
    "print(pred_start_date, pred_end_date)"
   ]
  }
 ],
 "metadata": {
  "kernelspec": {
   "display_name": "Python 3",
   "language": "python",
   "name": "python3"
  },
  "language_info": {
   "codemirror_mode": {
    "name": "ipython",
    "version": 3
   },
   "file_extension": ".py",
   "mimetype": "text/x-python",
   "name": "python",
   "nbconvert_exporter": "python",
   "pygments_lexer": "ipython3",
   "version": "3.6.3"
  }
 },
 "nbformat": 4,
 "nbformat_minor": 2
}
