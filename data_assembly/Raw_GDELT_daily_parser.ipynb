{
 "cells": [
  {
   "cell_type": "code",
   "execution_count": 49,
   "metadata": {},
   "outputs": [],
   "source": [
    "import numpy as np\n",
    "\n",
    "import pandas as pd\n",
    "from pandas import read_csv\n",
    "from pandas import DataFrame\n",
    "from pandas import concat\n",
    "pd.set_option('expand_frame_repr', True)\n",
    "import math\n",
    "\n",
    "from os import listdir"
   ]
  },
  {
   "cell_type": "code",
   "execution_count": 55,
   "metadata": {},
   "outputs": [],
   "source": [
    "files_to_parse = listdir('raw_files/2018-daily-until-0126')\n",
    "column_names = [\n",
    "'GLOBALEVENTID','SQLDATE','MonthYear','Year','FractionDate','Actor1Code','Actor1Name','Actor1CountryCode','Actor1KnownGroupCode\t',\n",
    "'Actor1EthnicCode','Actor1Religion1Code','Actor1Religion2Code','Actor1Type1Code','Actor1Type2Code','Actor1Type3Code',\n",
    "'Actor2Code','Actor2Name','Actor2CountryCode','Actor2KnownGroupCode','Actor2EthnicCode','Actor2Religion1Code',\n",
    "'Actor2Religion2Code','Actor2Type1Code','Actor2Type2Code','Actor2Type3Code','IsRootEvent','EventCode','EventBaseCode',\n",
    "'EventRootCode','QuadClass','GoldsteinScale','NumMentions','NumSources','NumArticles','AvgTone','Actor1Geo_Type',\n",
    "'Actor1Geo_FullName','Actor1Geo_CountryCode','Actor1Geo_ADM1Code','Actor1Geo_Lat','Actor1Geo_Long','Actor1Geo_FeatureID',\n",
    "'Actor2Geo_Type','Actor2Geo_FullName','Actor2Geo_CountryCode','Actor2Geo_ADM1Code','Actor2Geo_Lat','Actor2Geo_Long',\n",
    "'Actor2Geo_FeatureID','ActionGeo_Type','ActionGeo_FullName','ActionGeo_CountryCode','ActionGeo_ADM1Code','ActionGeo_Lat',\n",
    "'ActionGeo_Long','ActionGeo_FeatureID','DATEADDED','SOURCEURL']\n",
    "\n",
    "columns_to_keep = ['SQLDATE', 'IsRootEvent', 'EventRootCode', 'QuadClass', 'GoldsteinScale', 'AvgTone']\n",
    "#optional columns later to try with; Actor1Code, Actor2Code, Actor1Geo_ADM1Code, Actor2Geo_ADM1Code"
   ]
  },
  {
   "cell_type": "code",
   "execution_count": 56,
   "metadata": {},
   "outputs": [
    {
     "data": {
      "text/plain": [
       "['20180101.export.CSV',\n",
       " '20180102.export.CSV',\n",
       " '20180103.export.CSV',\n",
       " '20180104.export.CSV',\n",
       " '20180105.export.CSV',\n",
       " '20180106.export.CSV',\n",
       " '20180107.export.CSV',\n",
       " '20180108.export.CSV',\n",
       " '20180109.export.CSV',\n",
       " '20180110.export.CSV']"
      ]
     },
     "execution_count": 56,
     "metadata": {},
     "output_type": "execute_result"
    }
   ],
   "source": [
    "files_to_parse[:10]"
   ]
  },
  {
   "cell_type": "code",
   "execution_count": 58,
   "metadata": {},
   "outputs": [],
   "source": [
    "%%capture\n",
    "hourly_events = pd.DataFrame({})\n",
    "for file in files_to_parse:\n",
    "    df = pd.read_csv('raw_files/2018-daily-until-0126/{file}'.format(file=file), header=None, sep=\"\\t\", names=column_names)\n",
    "    df = df.set_index('GLOBALEVENTID')[columns_to_keep]\n",
    "    splitDf = pd.DataFrame({})\n",
    "    #This splits the dataframe into 24 equal parts sequentially, and marks which hour each piece belongs to\n",
    "    for g, subdf in df.groupby(np.arange(len(df)) // (df.shape[0] / 24)):\n",
    "        subdf['Hour'] = str(math.ceil(g)) if math.ceil(g) > 9 else ('0' + str(math.ceil(g)))\n",
    "        splitDf = splitDf.append(subdf)\n",
    "        \n",
    "    df = splitDf\n",
    "    df['EventRootCode'] = df['EventRootCode'].astype(pd.api.types.CategoricalDtype(categories= [i for i in range(1,21)]))\n",
    "    df['GoldsteinScale'] = df['GoldsteinScale'] /10\n",
    "    df['AvgTone'] = df['AvgTone'] /100\n",
    "    \n",
    "    df = pd.get_dummies(df, columns=['QuadClass', 'EventRootCode', 'IsRootEvent'], prefix=['QuadClass', 'EventRootCode', 'RootEvent_TF'])\n",
    "    df = df.groupby(['Hour'], axis=0).mean().reset_index()\n",
    "    \n",
    "    df['DateTime'] = str(file[:4]) + '-' + str(file[4:6]) + '-' + str(file[6:8]) + ' ' + df['Hour'] + ':00'\n",
    "    df = df.drop(['SQLDATE', 'Hour'], 1).set_index('DateTime')\n",
    "    \n",
    "    hourly_events = hourly_events.append(df)\n",
    "    del df"
   ]
  },
  {
   "cell_type": "code",
   "execution_count": 59,
   "metadata": {},
   "outputs": [
    {
     "data": {
      "text/plain": [
       "(624, 28)"
      ]
     },
     "execution_count": 59,
     "metadata": {},
     "output_type": "execute_result"
    }
   ],
   "source": [
    "hourly_events.shape"
   ]
  },
  {
   "cell_type": "code",
   "execution_count": 34,
   "metadata": {},
   "outputs": [
    {
     "data": {
      "text/plain": [
       "Index(['GoldsteinScale', 'AvgTone', 'QuadClass_1', 'QuadClass_2',\n",
       "       'QuadClass_3', 'QuadClass_4', 'EventRootCode_1', 'EventRootCode_2',\n",
       "       'EventRootCode_3', 'EventRootCode_4', 'EventRootCode_5',\n",
       "       'EventRootCode_6', 'EventRootCode_7', 'EventRootCode_8',\n",
       "       'EventRootCode_9', 'EventRootCode_10', 'EventRootCode_11',\n",
       "       'EventRootCode_12', 'EventRootCode_13', 'EventRootCode_14',\n",
       "       'EventRootCode_15', 'EventRootCode_16', 'EventRootCode_17',\n",
       "       'EventRootCode_18', 'EventRootCode_19', 'EventRootCode_20',\n",
       "       'RootEvent_TF_0', 'RootEvent_TF_1'],\n",
       "      dtype='object')"
      ]
     },
     "execution_count": 34,
     "metadata": {},
     "output_type": "execute_result"
    }
   ],
   "source": [
    "hourly_events.columns"
   ]
  },
  {
   "cell_type": "code",
   "execution_count": 60,
   "metadata": {},
   "outputs": [],
   "source": [
    "hourly_events.to_csv('2018_hourly_until_0126.tsv', sep='\\t')"
   ]
  }
 ],
 "metadata": {
  "kernelspec": {
   "display_name": "Python 3",
   "language": "python",
   "name": "python3"
  },
  "language_info": {
   "codemirror_mode": {
    "name": "ipython",
    "version": 3
   },
   "file_extension": ".py",
   "mimetype": "text/x-python",
   "name": "python",
   "nbconvert_exporter": "python",
   "pygments_lexer": "ipython3",
   "version": "3.5.4"
  }
 },
 "nbformat": 4,
 "nbformat_minor": 2
}
