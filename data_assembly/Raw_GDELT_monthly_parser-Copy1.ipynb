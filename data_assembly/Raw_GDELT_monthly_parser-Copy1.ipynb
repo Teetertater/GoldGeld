{
 "cells": [
  {
   "cell_type": "code",
   "execution_count": 1,
   "metadata": {},
   "outputs": [],
   "source": [
    "import numpy as np\n",
    "\n",
    "import pandas as pd\n",
    "from pandas import read_csv\n",
    "from pandas import DataFrame\n",
    "from pandas import concat\n",
    "pd.set_option('expand_frame_repr', True)\n",
    "import math\n",
    "\n",
    "from os import listdir"
   ]
  },
  {
   "cell_type": "code",
   "execution_count": 2,
   "metadata": {},
   "outputs": [],
   "source": [
    "files_to_parse = listdir('raw_files/monthly')\n",
    "column_names = [\n",
    "'GLOBALEVENTID','SQLDATE','MonthYear','Year','FractionDate','Actor1Code','Actor1Name','Actor1CountryCode','Actor1KnownGroupCode\t',\n",
    "'Actor1EthnicCode','Actor1Religion1Code','Actor1Religion2Code','Actor1Type1Code','Actor1Type2Code','Actor1Type3Code',\n",
    "'Actor2Code','Actor2Name','Actor2CountryCode','Actor2KnownGroupCode','Actor2EthnicCode','Actor2Religion1Code',\n",
    "'Actor2Religion2Code','Actor2Type1Code','Actor2Type2Code','Actor2Type3Code','IsRootEvent','EventCode','EventBaseCode',\n",
    "'EventRootCode','QuadClass','GoldsteinScale','NumMentions','NumSources','NumArticles','AvgTone','Actor1Geo_Type',\n",
    "'Actor1Geo_FullName','Actor1Geo_CountryCode','Actor1Geo_ADM1Code','Actor1Geo_Lat','Actor1Geo_Long','Actor1Geo_FeatureID',\n",
    "'Actor2Geo_Type','Actor2Geo_FullName','Actor2Geo_CountryCode','Actor2Geo_ADM1Code','Actor2Geo_Lat','Actor2Geo_Long',\n",
    "'Actor2Geo_FeatureID','ActionGeo_Type','ActionGeo_FullName','ActionGeo_CountryCode','ActionGeo_ADM1Code','ActionGeo_Lat',\n",
    "'ActionGeo_Long','ActionGeo_FeatureID','DATEADDED','SOURCEURL']\n",
    "\n",
    "columns_to_keep = ['SQLDATE', 'IsRootEvent', 'EventRootCode', 'QuadClass', 'GoldsteinScale', 'AvgTone']\n",
    "#optional columns later to try with; Actor1Code, Actor2Code, Actor1Geo_ADM1Code, Actor2Geo_ADM1Code"
   ]
  },
  {
   "cell_type": "code",
   "execution_count": 3,
   "metadata": {},
   "outputs": [
    {
     "name": "stderr",
     "output_type": "stream",
     "text": [
      "C:\\ProgramData\\Anaconda3\\envs\\tensorflow\\lib\\site-packages\\IPython\\core\\interactiveshell.py:2728: DtypeWarning: Columns (5,6,7,8,9,10,11,12,13,14,19,24,36,37,38) have mixed types. Specify dtype option on import or set low_memory=False.\n",
      "  interactivity=interactivity, compiler=compiler, result=result)\n",
      "C:\\ProgramData\\Anaconda3\\envs\\tensorflow\\lib\\site-packages\\ipykernel_launcher.py:26: SettingWithCopyWarning: \n",
      "A value is trying to be set on a copy of a slice from a DataFrame.\n",
      "Try using .loc[row_indexer,col_indexer] = value instead\n",
      "\n",
      "See the caveats in the documentation: http://pandas.pydata.org/pandas-docs/stable/indexing.html#indexing-view-versus-copy\n",
      "C:\\ProgramData\\Anaconda3\\envs\\tensorflow\\lib\\site-packages\\ipykernel_launcher.py:29: SettingWithCopyWarning: \n",
      "A value is trying to be set on a copy of a slice from a DataFrame.\n",
      "Try using .loc[row_indexer,col_indexer] = value instead\n",
      "\n",
      "See the caveats in the documentation: http://pandas.pydata.org/pandas-docs/stable/indexing.html#indexing-view-versus-copy\n"
     ]
    },
    {
     "name": "stdout",
     "output_type": "stream",
     "text": [
      "                  RootEvent_TF_1\n",
      "DateTime                        \n",
      "2012-01-01 00:00        0.684473\n",
      "2012-01-01 01:00        0.702584\n",
      "2012-01-01 02:00        0.705606\n"
     ]
    },
    {
     "name": "stderr",
     "output_type": "stream",
     "text": [
      "C:\\ProgramData\\Anaconda3\\envs\\tensorflow\\lib\\site-packages\\IPython\\core\\interactiveshell.py:2728: DtypeWarning: Columns (8,9,10,11,12,13,14,19,26,27,28) have mixed types. Specify dtype option on import or set low_memory=False.\n",
      "  interactivity=interactivity, compiler=compiler, result=result)\n"
     ]
    },
    {
     "name": "stdout",
     "output_type": "stream",
     "text": [
      "                  RootEvent_TF_1\n",
      "DateTime                        \n",
      "2012-02-01 00:00        0.675769\n",
      "2012-02-01 01:00        0.635378\n",
      "2012-02-01 02:00        0.670930\n"
     ]
    },
    {
     "name": "stderr",
     "output_type": "stream",
     "text": [
      "C:\\ProgramData\\Anaconda3\\envs\\tensorflow\\lib\\site-packages\\IPython\\core\\interactiveshell.py:2728: DtypeWarning: Columns (8,9,10,11,12,13,14,19,24) have mixed types. Specify dtype option on import or set low_memory=False.\n",
      "  interactivity=interactivity, compiler=compiler, result=result)\n"
     ]
    },
    {
     "name": "stdout",
     "output_type": "stream",
     "text": [
      "                  RootEvent_TF_1\n",
      "DateTime                        \n",
      "2012-03-01 00:00        0.676613\n",
      "2012-03-01 01:00        0.652918\n",
      "2012-03-01 02:00        0.696139\n"
     ]
    },
    {
     "name": "stderr",
     "output_type": "stream",
     "text": [
      "C:\\ProgramData\\Anaconda3\\envs\\tensorflow\\lib\\site-packages\\IPython\\core\\interactiveshell.py:2728: DtypeWarning: Columns (8,9,10,11,13,14,19,24,26,27,28) have mixed types. Specify dtype option on import or set low_memory=False.\n",
      "  interactivity=interactivity, compiler=compiler, result=result)\n"
     ]
    },
    {
     "name": "stdout",
     "output_type": "stream",
     "text": [
      "                  RootEvent_TF_1\n",
      "DateTime                        \n",
      "2012-04-01 00:00        0.612494\n",
      "2012-04-01 01:00        0.660603\n",
      "2012-04-01 02:00        0.633948\n"
     ]
    },
    {
     "name": "stderr",
     "output_type": "stream",
     "text": [
      "C:\\ProgramData\\Anaconda3\\envs\\tensorflow\\lib\\site-packages\\IPython\\core\\interactiveshell.py:2728: DtypeWarning: Columns (8,9,10,11,12,13,14,19,24,26,27,28) have mixed types. Specify dtype option on import or set low_memory=False.\n",
      "  interactivity=interactivity, compiler=compiler, result=result)\n"
     ]
    },
    {
     "name": "stdout",
     "output_type": "stream",
     "text": [
      "                  RootEvent_TF_1\n",
      "DateTime                        \n",
      "2012-05-01 00:00        0.693003\n",
      "2012-05-01 01:00        0.655164\n",
      "2012-05-01 02:00        0.699595\n",
      "                  RootEvent_TF_1\n",
      "DateTime                        \n",
      "2012-06-01 00:00        0.649503\n",
      "2012-06-01 01:00        0.684170\n",
      "2012-06-01 02:00        0.695131\n"
     ]
    },
    {
     "name": "stderr",
     "output_type": "stream",
     "text": [
      "C:\\ProgramData\\Anaconda3\\envs\\tensorflow\\lib\\site-packages\\IPython\\core\\interactiveshell.py:2728: DtypeWarning: Columns (8,9,10,11,14,26,27,28) have mixed types. Specify dtype option on import or set low_memory=False.\n",
      "  interactivity=interactivity, compiler=compiler, result=result)\n"
     ]
    },
    {
     "name": "stdout",
     "output_type": "stream",
     "text": [
      "                  RootEvent_TF_1\n",
      "DateTime                        \n",
      "2012-07-01 00:00        0.663099\n",
      "2012-07-01 01:00        0.640353\n",
      "2012-07-01 02:00        0.690661\n"
     ]
    },
    {
     "name": "stderr",
     "output_type": "stream",
     "text": [
      "C:\\ProgramData\\Anaconda3\\envs\\tensorflow\\lib\\site-packages\\IPython\\core\\interactiveshell.py:2728: DtypeWarning: Columns (8,9,10,11,13,14,24) have mixed types. Specify dtype option on import or set low_memory=False.\n",
      "  interactivity=interactivity, compiler=compiler, result=result)\n"
     ]
    },
    {
     "name": "stdout",
     "output_type": "stream",
     "text": [
      "                  RootEvent_TF_1\n",
      "DateTime                        \n",
      "2012-08-01 00:00        0.683168\n",
      "2012-08-01 01:00        0.669326\n",
      "2012-08-01 02:00        0.701870\n"
     ]
    },
    {
     "name": "stderr",
     "output_type": "stream",
     "text": [
      "C:\\ProgramData\\Anaconda3\\envs\\tensorflow\\lib\\site-packages\\IPython\\core\\interactiveshell.py:2728: DtypeWarning: Columns (8,9,10,11,14,24,26,27,28) have mixed types. Specify dtype option on import or set low_memory=False.\n",
      "  interactivity=interactivity, compiler=compiler, result=result)\n"
     ]
    },
    {
     "name": "stdout",
     "output_type": "stream",
     "text": [
      "                  RootEvent_TF_1\n",
      "DateTime                        \n",
      "2012-09-01 00:00        0.652253\n",
      "2012-09-01 01:00        0.661021\n",
      "2012-09-01 02:00        0.709484\n"
     ]
    },
    {
     "name": "stderr",
     "output_type": "stream",
     "text": [
      "C:\\ProgramData\\Anaconda3\\envs\\tensorflow\\lib\\site-packages\\IPython\\core\\interactiveshell.py:2728: DtypeWarning: Columns (8,9,10,11,13,14,24,26,27,28) have mixed types. Specify dtype option on import or set low_memory=False.\n",
      "  interactivity=interactivity, compiler=compiler, result=result)\n"
     ]
    },
    {
     "name": "stdout",
     "output_type": "stream",
     "text": [
      "                  RootEvent_TF_1\n",
      "DateTime                        \n",
      "2012-10-01 00:00        0.678874\n",
      "2012-10-01 01:00        0.650082\n",
      "2012-10-01 02:00        0.717879\n",
      "                  RootEvent_TF_1\n",
      "DateTime                        \n",
      "2012-11-01 00:00        0.667784\n",
      "2012-11-01 01:00        0.652577\n",
      "2012-11-01 02:00        0.696907\n"
     ]
    },
    {
     "name": "stderr",
     "output_type": "stream",
     "text": [
      "C:\\ProgramData\\Anaconda3\\envs\\tensorflow\\lib\\site-packages\\IPython\\core\\interactiveshell.py:2728: DtypeWarning: Columns (8,9,11,13,14,24) have mixed types. Specify dtype option on import or set low_memory=False.\n",
      "  interactivity=interactivity, compiler=compiler, result=result)\n"
     ]
    },
    {
     "name": "stdout",
     "output_type": "stream",
     "text": [
      "                  RootEvent_TF_1\n",
      "DateTime                        \n",
      "2012-12-01 00:00        0.617701\n",
      "2012-12-01 01:00        0.638078\n",
      "2012-12-01 02:00        0.695864\n"
     ]
    }
   ],
   "source": [
    "#%%capture\n",
    "hourly_events = pd.DataFrame({})\n",
    "for file in files_to_parse:\n",
    "    def daysInMonth(x):\n",
    "        return {\n",
    "            '201201.csv': 31,\n",
    "            '201202.csv': 29,\n",
    "            '201203.csv': 31,\n",
    "            '201204.csv': 30,\n",
    "            '201205.csv': 31,\n",
    "            '201206.csv': 30,\n",
    "            '201207.csv': 31,\n",
    "            '201208.csv': 31,\n",
    "            '201209.csv': 30,\n",
    "            '201210.csv': 31,\n",
    "            '201211.csv': 30,\n",
    "            '201212.csv': 31\n",
    "        }[x]\n",
    "    df = pd.read_csv('raw_files/monthly/{file}'.format(file=file), header=None, sep=\"\\t\", names=column_names)\n",
    "    df = df.set_index('GLOBALEVENTID')[columns_to_keep]\n",
    "    \n",
    "    splitDf = pd.DataFrame({})\n",
    "    #This splits the dataframe into 24 equal parts sequentially, and marks which hour each piece belongs to\n",
    "    for g, subdf in df.groupby(np.arange(len(df)) // (df.shape[0] / daysInMonth(file))):\n",
    "        day = math.ceil(g)+1\n",
    "        subdf['Day'] = str(str(day) if (day) > 9 else ('0' + str(day)))\n",
    "        for d, subsubdf in subdf.groupby(np.arange(len(subdf)) // (subdf.shape[0] / 24)):\n",
    "            hour = math.ceil(d)\n",
    "            subsubdf['Hour'] = str(hour) if hour > 9 else ('0' + str(hour))\n",
    "            splitDf = splitDf.append(subsubdf)\n",
    "        \n",
    "    df2 = splitDf\n",
    "    df2['EventRootCode'] = df2['EventRootCode'].astype(pd.api.types.CategoricalDtype(categories= [i for i in range(1,21)]))\n",
    "    df2['GoldsteinScale'] = df2['GoldsteinScale'] /10\n",
    "    df2['AvgTone'] = df2['AvgTone'] /100\n",
    "    \n",
    "    \n",
    "    df3 = pd.get_dummies(df2, columns=['QuadClass', 'EventRootCode', 'IsRootEvent'], prefix=['QuadClass', 'EventRootCode', 'RootEvent_TF'])    \n",
    "    df3 = df3.groupby(['Day','Hour'], axis=0).mean().reset_index()\n",
    "\n",
    "    df3['DateTime'] = str(file[:4]) + '-' + str(file[4:6]) + '-' + df3['Day'] + ' ' + df3['Hour'] + ':00'\n",
    "    df4 = df3.drop(['SQLDATE', 'Hour', 'Day'], 1).set_index('DateTime')\n",
    "    print(df4[['RootEvent_TF_1']].head(3))\n",
    "    hourly_events = hourly_events.append(df4)\n",
    "    del df"
   ]
  },
  {
   "cell_type": "code",
   "execution_count": 4,
   "metadata": {},
   "outputs": [
    {
     "data": {
      "text/plain": [
       "(8784, 28)"
      ]
     },
     "execution_count": 4,
     "metadata": {},
     "output_type": "execute_result"
    }
   ],
   "source": [
    "hourly_events.shape"
   ]
  },
  {
   "cell_type": "code",
   "execution_count": 5,
   "metadata": {},
   "outputs": [],
   "source": [
    "hourly_events.to_csv('2012-hourly', sep='\\t')"
   ]
  }
 ],
 "metadata": {
  "kernelspec": {
   "display_name": "Python 3",
   "language": "python",
   "name": "python3"
  },
  "language_info": {
   "codemirror_mode": {
    "name": "ipython",
    "version": 3
   },
   "file_extension": ".py",
   "mimetype": "text/x-python",
   "name": "python",
   "nbconvert_exporter": "python",
   "pygments_lexer": "ipython3",
   "version": "3.5.4"
  }
 },
 "nbformat": 4,
 "nbformat_minor": 2
}
